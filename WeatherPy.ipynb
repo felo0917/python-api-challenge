{
 "cells": [
  {
   "cell_type": "markdown",
   "metadata": {},
   "source": [
    "# WeatherPy\n",
    "----\n",
    "\n",
    "#### Note\n",
    "* Instructions have been included for each segment. You do not have to follow them exactly, but they are included to help you think through the steps."
   ]
  },
  {
   "cell_type": "code",
   "execution_count": 18,
   "metadata": {
    "scrolled": true
   },
   "outputs": [],
   "source": [
    "# Dependencies and Setup\n",
    "import matplotlib.pyplot as plt\n",
    "import pandas as pd\n",
    "import numpy as np\n",
    "import requests\n",
    "import time\n",
    "from scipy.stats import linregress\n",
    "\n",
    "# Import API key\n",
    "from api_keys import weather_api_key\n",
    "\n",
    "# Incorporated citipy to determine city based on latitude and longitude\n",
    "from citipy import citipy\n",
    "\n",
    "# Output File (CSV)\n",
    "output_data_file = \"output_data/cities.csv\"\n",
    "\n",
    "# Range of latitudes and longitudes\n",
    "lat_range = (-90, 90)\n",
    "lng_range = (-180, 180)"
   ]
  },
  {
   "cell_type": "markdown",
   "metadata": {},
   "source": [
    "## Generate Cities List"
   ]
  },
  {
   "cell_type": "code",
   "execution_count": 19,
   "metadata": {},
   "outputs": [
    {
     "data": {
      "text/plain": [
       "599"
      ]
     },
     "execution_count": 19,
     "metadata": {},
     "output_type": "execute_result"
    }
   ],
   "source": [
    "# List for holding lat_lngs and cities\n",
    "lat_lngs = []\n",
    "cities = []\n",
    "\n",
    "# Create a set of random lat and lng combinations\n",
    "lats = np.random.uniform(lat_range[0], lat_range[1], size=1500)\n",
    "lngs = np.random.uniform(lng_range[0], lng_range[1], size=1500)\n",
    "lat_lngs = zip(lats, lngs)\n",
    "\n",
    "# Identify nearest city for each lat, lng combination\n",
    "for lat_lng in lat_lngs:\n",
    "    city = citipy.nearest_city(lat_lng[0], lat_lng[1]).city_name\n",
    "    \n",
    "    # If the city is unique, then add it to a our cities list\n",
    "    if city not in cities:\n",
    "        cities.append(city)\n",
    "\n",
    "# Print the city count to confirm sufficient count\n",
    "len(cities)"
   ]
  },
  {
   "cell_type": "code",
   "execution_count": 20,
   "metadata": {},
   "outputs": [],
   "source": [
    "# Save config information.\n",
    "url = \"http://api.openweathermap.org/data/2.5/weather?\"\n",
    "units = \"metric\"\n",
    "\n",
    "# Build partial query URL\n",
    "query_url = f\"{url}appid={weather_api_key}&units={units}&q=\""
   ]
  },
  {
   "cell_type": "code",
   "execution_count": 28,
   "metadata": {},
   "outputs": [
    {
     "data": {
      "text/html": [
       "<div>\n",
       "<style scoped>\n",
       "    .dataframe tbody tr th:only-of-type {\n",
       "        vertical-align: middle;\n",
       "    }\n",
       "\n",
       "    .dataframe tbody tr th {\n",
       "        vertical-align: top;\n",
       "    }\n",
       "\n",
       "    .dataframe thead th {\n",
       "        text-align: right;\n",
       "    }\n",
       "</style>\n",
       "<table border=\"1\" class=\"dataframe\">\n",
       "  <thead>\n",
       "    <tr style=\"text-align: right;\">\n",
       "      <th></th>\n",
       "      <th>City</th>\n",
       "      <th>Lat</th>\n",
       "      <th>Lng</th>\n",
       "      <th>temp</th>\n",
       "      <th>Cloudiness</th>\n",
       "      <th>Country</th>\n",
       "      <th>Date</th>\n",
       "      <th>Humidity</th>\n",
       "      <th>Max Temp</th>\n",
       "      <th>Wind Speed</th>\n",
       "    </tr>\n",
       "  </thead>\n",
       "  <tbody>\n",
       "  </tbody>\n",
       "</table>\n",
       "</div>"
      ],
      "text/plain": [
       "Empty DataFrame\n",
       "Columns: [City, Lat, Lng, temp, Cloudiness, Country, Date, Humidity, Max Temp, Wind Speed]\n",
       "Index: []"
      ]
     },
     "execution_count": 28,
     "metadata": {},
     "output_type": "execute_result"
    }
   ],
   "source": [
    "# create a data frame from city, lat, lng, temp, cloudiness, country, date, humidity, max temp and wind speed.\n",
    "weather_dict = pd.DataFrame(columns = [\n",
    "    \"City\",\n",
    "    \"Lat\",\n",
    "    \"Lng\",\n",
    "    \"temp\",\n",
    "    \"Cloudiness\",\n",
    "    \"Country\",\n",
    "    \"Date\",\n",
    "    \"Humidity\",\n",
    "    \"Max Temp\",\n",
    "    \"Wind Speed\"\n",
    "    \n",
    "])\n",
    "weather_dict"
   ]
  },
  {
   "cell_type": "markdown",
   "metadata": {},
   "source": [
    "### Perform API Calls\n",
    "* Perform a weather check on each city using a series of successive API calls.\n",
    "* Include a print log of each city as it'sbeing processed (with the city number and city name).\n"
   ]
  },
  {
   "cell_type": "code",
   "execution_count": 32,
   "metadata": {},
   "outputs": [
    {
     "name": "stdout",
     "output_type": "stream",
     "text": [
      "boa vista\n",
      "saldanha\n",
      "jamestown\n",
      "albany\n",
      "hilo\n",
      "kattivakkam\n",
      "taolanaro\n",
      "couldn't find taolanaro\n",
      "sapao\n",
      "couldn't find sapao\n",
      "barrow\n",
      "ixtapa\n",
      "constitucion\n",
      "ushuaia\n",
      "mount gambier\n",
      "rikitea\n",
      "junction city\n",
      "san martin\n",
      "oriximina\n",
      "mataura\n",
      "tasiilaq\n",
      "ponta delgada\n",
      "selma\n",
      "ippy\n",
      "buqayq\n",
      "couldn't find buqayq\n",
      "bluff\n",
      "olafsvik\n",
      "hobart\n",
      "cherskiy\n",
      "kasama\n",
      "cape town\n",
      "mar del plata\n",
      "kahului\n",
      "vaini\n",
      "vaitupu\n",
      "couldn't find vaitupu\n",
      "buraydah\n",
      "pemba\n",
      "ust-nera\n",
      "butaritari\n",
      "port lincoln\n",
      "hoi an\n",
      "lazaro cardenas\n",
      "cenade\n",
      "muros\n",
      "salalah\n",
      "sahrak\n",
      "couldn't find sahrak\n",
      "buala\n",
      "quatre cocos\n",
      "saint-philippe\n",
      "ust-ilimsk\n",
      "katsuura\n",
      "illoqqortoormiut\n",
      "couldn't find illoqqortoormiut\n",
      "arraial do cabo\n",
      "broome\n",
      "saskylakh\n",
      "comodoro rivadavia\n",
      "kalat\n",
      "kathu\n",
      "thompson\n",
      "lompoc\n",
      "cockburn harbour\n",
      "couldn't find cockburn harbour\n",
      "ilulissat\n",
      "ahuimanu\n",
      "gazli\n",
      "bengkulu\n",
      "geraldton\n",
      "port elizabeth\n",
      "sao joao da barra\n",
      "naze\n",
      "castro\n",
      "severo-kurilsk\n",
      "luderitz\n",
      "puerto ayora\n",
      "ponta do sol\n",
      "faya\n",
      "souillac\n",
      "luganville\n",
      "at-bashi\n",
      "daxian\n",
      "couldn't find daxian\n",
      "cabo san lucas\n",
      "grand river south east\n",
      "couldn't find grand river south east\n",
      "vila franca do campo\n",
      "esperance\n",
      "busselton\n",
      "bredasdorp\n",
      "atuona\n",
      "srednekolymsk\n",
      "grindavik\n",
      "provideniya\n",
      "albanel\n",
      "torbay\n",
      "chokurdakh\n",
      "qaqortoq\n",
      "cap-aux-meules\n",
      "nouadhibou\n",
      "east london\n",
      "deputatskiy\n",
      "dwarka\n",
      "cidreira\n",
      "kavieng\n",
      "port alfred\n",
      "murdochville\n",
      "faanui\n",
      "punta arenas\n",
      "leiva\n",
      "evensk\n",
      "tuatapere\n",
      "carnarvon\n",
      "braintree\n",
      "alofi\n",
      "cozumel\n",
      "florianopolis\n",
      "leshukonskoye\n",
      "mys shmidta\n",
      "couldn't find mys shmidta\n",
      "tessalit\n",
      "goryachegorsk\n",
      "cravo norte\n",
      "senmonorom\n",
      "couldn't find senmonorom\n",
      "laguna\n",
      "lengshuitan\n",
      "hermanus\n",
      "sorsk\n",
      "bayan\n",
      "terrace\n",
      "saint-joseph\n",
      "banikoara\n",
      "dikson\n",
      "leningradskiy\n",
      "shakawe\n",
      "sorland\n",
      "nanortalik\n",
      "nizhneyansk\n",
      "couldn't find nizhneyansk\n",
      "khatanga\n",
      "flinders\n",
      "umm kaddadah\n",
      "upernavik\n",
      "nkhata bay\n",
      "tuktoyaktuk\n",
      "port blair\n",
      "catalao\n",
      "shitkino\n",
      "adrar\n",
      "komsomolskiy\n",
      "ulladulla\n",
      "saint george\n",
      "qui nhon\n",
      "mosquera\n",
      "tornio\n",
      "new norfolk\n",
      "dunedin\n",
      "bograd\n",
      "khovu-aksy\n",
      "waingapu\n",
      "shelburne\n",
      "kodiak\n",
      "manokwari\n",
      "kapaa\n",
      "nekhayevskiy\n",
      "victoria\n",
      "tilichiki\n",
      "kavaratti\n",
      "aklavik\n",
      "el balyana\n",
      "couldn't find el balyana\n",
      "georgetown\n",
      "itoman\n",
      "vondrozo\n",
      "ahipara\n",
      "genhe\n",
      "nikolskoye\n",
      "sandur\n",
      "nioro\n",
      "klaksvik\n",
      "port macquarie\n",
      "marovoay\n",
      "ust-uda\n",
      "ratnagiri\n",
      "praya\n",
      "sao miguel do araguaia\n",
      "shimoda\n",
      "iwanai\n",
      "toliary\n",
      "couldn't find toliary\n",
      "bathsheba\n",
      "bubaque\n",
      "yellowknife\n",
      "kargasok\n",
      "brovary\n",
      "sinkat\n",
      "couldn't find sinkat\n",
      "pitimbu\n",
      "bundaberg\n",
      "bolobo\n",
      "touros\n",
      "chkalovsk\n",
      "ambilobe\n",
      "saleaula\n",
      "couldn't find saleaula\n",
      "yarada\n",
      "amderma\n",
      "couldn't find amderma\n",
      "chuy\n",
      "sao filipe\n",
      "fredericton\n",
      "tazovskiy\n",
      "ushtobe\n",
      "te anau\n",
      "boajibu\n",
      "koslan\n",
      "awjilah\n",
      "guane\n",
      "hithadhoo\n",
      "portland\n",
      "mahebourg\n",
      "avarua\n",
      "manthani\n",
      "villazon\n",
      "hidalgo\n",
      "aplahoue\n",
      "wajir\n",
      "kudahuvadhoo\n",
      "yumen\n",
      "praia da vitoria\n",
      "tsihombe\n",
      "couldn't find tsihombe\n",
      "coaticook\n",
      "anadyr\n",
      "selenginsk\n",
      "kaitangata\n",
      "bambous virieux\n",
      "aloleng\n",
      "mehamn\n",
      "rognan\n",
      "oga\n",
      "ancud\n",
      "peoria\n",
      "pisco\n",
      "kawakawa\n",
      "bonthe\n",
      "attawapiskat\n",
      "couldn't find attawapiskat\n",
      "aksarka\n",
      "karratha\n",
      "nguiu\n",
      "couldn't find nguiu\n",
      "chapais\n",
      "la ronge\n",
      "goderich\n",
      "airai\n",
      "thinadhoo\n",
      "barentsburg\n",
      "couldn't find barentsburg\n",
      "coihaique\n",
      "the valley\n",
      "iquique\n",
      "fortuna\n",
      "qingdao\n",
      "ostrovnoy\n",
      "hambantota\n",
      "lyngseidet\n",
      "halifax\n",
      "warqla\n",
      "couldn't find warqla\n",
      "mapiripan\n",
      "semey\n",
      "codrington\n",
      "palabuhanratu\n",
      "couldn't find palabuhanratu\n",
      "malwan\n",
      "couldn't find malwan\n",
      "haines junction\n",
      "altamira\n",
      "novyy urengoy\n",
      "lebu\n",
      "vardo\n",
      "los llanos de aridane\n",
      "montepuez\n",
      "namanyere\n",
      "hihifo\n",
      "couldn't find hihifo\n",
      "margate\n",
      "sataua\n",
      "couldn't find sataua\n",
      "ocampo\n",
      "lock haven\n",
      "saint-augustin\n",
      "marshall\n",
      "kismayo\n",
      "shenjiamen\n",
      "guerrero negro\n",
      "lipari\n",
      "araouane\n",
      "umzimvubu\n",
      "couldn't find umzimvubu\n",
      "orichi\n",
      "taltal\n",
      "fare\n",
      "valparaiso\n",
      "melfort\n",
      "walvis bay\n",
      "yuci\n",
      "ribeira grande\n",
      "jutai\n",
      "pevek\n",
      "port hardy\n",
      "alta floresta\n",
      "bontang\n",
      "ust-kamchatsk\n",
      "couldn't find ust-kamchatsk\n",
      "sentyabrskiy\n",
      "couldn't find sentyabrskiy\n",
      "maniitsoq\n",
      "galiwinku\n",
      "couldn't find galiwinku\n",
      "pavlodar\n",
      "berlevag\n",
      "choya\n",
      "namibe\n",
      "santa cruz de la palma\n",
      "chancay\n",
      "kiunga\n",
      "finschhafen\n",
      "samusu\n",
      "couldn't find samusu\n",
      "alindao\n",
      "ornskoldsvik\n",
      "vryburg\n",
      "pokhara\n",
      "nyborg\n",
      "jining\n",
      "lavrentiya\n",
      "baykit\n",
      "cairns\n",
      "ascension\n",
      "wamba\n",
      "davila\n",
      "matara\n",
      "puerto baquerizo moreno\n",
      "kieta\n",
      "quelimane\n",
      "ende\n",
      "muncar\n",
      "usvyaty\n",
      "isangel\n",
      "longyearbyen\n",
      "sinnamary\n",
      "excelsior springs\n",
      "okha\n",
      "jahrom\n",
      "couldn't find jahrom\n",
      "marsa matruh\n",
      "toftir\n",
      "couldn't find toftir\n",
      "monrovia\n",
      "pacific grove\n",
      "belushya guba\n",
      "couldn't find belushya guba\n",
      "alakurtti\n",
      "tiksi\n",
      "algete\n",
      "kiruna\n",
      "wuwei\n",
      "farafangana\n",
      "ningyang\n",
      "modasa\n",
      "gambiran\n",
      "fort-shevchenko\n",
      "cayenne\n",
      "ponte nova\n",
      "beira\n",
      "padilla\n",
      "watertown\n",
      "tiznit\n",
      "luanda\n",
      "bhadrachalam\n",
      "gizo\n",
      "hasaki\n",
      "yerofey pavlovich\n",
      "bilma\n",
      "shingu\n",
      "hofn\n",
      "namatanai\n",
      "lagoa\n",
      "la espigadilla\n",
      "alenquer\n",
      "young\n",
      "santa rosa\n",
      "sibenik\n",
      "oyama\n",
      "vila velha\n",
      "tirumullaivasal\n",
      "qiongshan\n",
      "pasighat\n",
      "byron bay\n",
      "akyab\n",
      "dir\n",
      "caravelas\n",
      "curup\n",
      "moron\n",
      "caraballeda\n",
      "haputale\n",
      "mayo\n",
      "thano bula khan\n",
      "couldn't find thano bula khan\n",
      "moose factory\n",
      "victoria point\n",
      "marzuq\n",
      "corner brook\n",
      "kidal\n",
      "chulucanas\n",
      "santa catalina\n",
      "coquimbo\n",
      "tumannyy\n",
      "couldn't find tumannyy\n",
      "porbandar\n",
      "castrillon\n",
      "smidovich\n",
      "sao raimundo nonato\n",
      "bandarbeyla\n",
      "mudanjiang\n",
      "hvammstangi\n",
      "couldn't find hvammstangi\n",
      "shaoyang\n",
      "laurens\n",
      "meyungs\n",
      "couldn't find meyungs\n",
      "shache\n",
      "kastellion\n",
      "couldn't find kastellion\n",
      "balimo\n",
      "couldn't find balimo\n",
      "henties bay\n",
      "havre-saint-pierre\n",
      "lata\n",
      "saint anthony\n",
      "ampanihy\n",
      "wanning\n",
      "meridian\n",
      "bereda\n",
      "loandjili\n",
      "manavalakurichi\n",
      "mount isa\n",
      "asfi\n",
      "teacapan\n",
      "tonala\n",
      "tateyama\n",
      "chudovo\n",
      "cap malheureux\n",
      "viramgam\n",
      "ylojarvi\n",
      "narsaq\n",
      "clyde river\n",
      "palora\n",
      "aksu\n",
      "boende\n",
      "willowmore\n",
      "mill valley\n",
      "xining\n",
      "nago\n",
      "russkiy aktash\n",
      "chengde\n",
      "zarubino\n",
      "husavik\n",
      "rostovka\n",
      "uchiza\n",
      "eureka\n",
      "sur\n",
      "qaanaaq\n",
      "stykkisholmur\n",
      "vostok\n",
      "yar-sale\n",
      "komsomolets\n",
      "juxian\n",
      "couldn't find juxian\n",
      "omboue\n",
      "eidsvag\n",
      "high level\n",
      "northam\n",
      "bethel\n",
      "ternate\n",
      "matagami\n",
      "babushkin\n",
      "la fria\n",
      "simoes\n",
      "seymchan\n",
      "ulaangom\n",
      "kalemie\n",
      "athabasca\n",
      "itauna\n",
      "hami\n",
      "louisbourg\n",
      "couldn't find louisbourg\n",
      "kununurra\n",
      "wairoa\n",
      "oussouye\n",
      "barkly west\n",
      "north ogden\n",
      "heihe\n",
      "plettenberg bay\n",
      "ikalamavony\n",
      "yungkang\n",
      "couldn't find yungkang\n",
      "novyy urgal\n",
      "limbang\n",
      "rudbar\n",
      "maldonado\n",
      "price\n",
      "shamary\n",
      "ichinoseki\n",
      "mareeba\n",
      "forestville\n",
      "aflu\n",
      "couldn't find aflu\n",
      "sovetskiy\n",
      "kamen-rybolov\n",
      "san cristobal\n",
      "san miguel\n",
      "bria\n",
      "mandalgovi\n",
      "halalo\n",
      "couldn't find halalo\n",
      "fukue\n",
      "along\n",
      "natal\n",
      "san gabriel casa blanca\n",
      "noumea\n",
      "kaohsiung\n",
      "hualmay\n",
      "najran\n",
      "begunitsy\n",
      "bogotol\n",
      "algiers\n",
      "kodinsk\n",
      "karaul\n",
      "couldn't find karaul\n",
      "biryusinsk\n",
      "mexico\n",
      "bambari\n",
      "miro khan\n",
      "skopin\n",
      "artyk\n",
      "couldn't find artyk\n",
      "nabire\n",
      "norman wells\n",
      "nantucket\n",
      "potsdam\n",
      "mitu\n",
      "belaya gora\n",
      "gat\n",
      "tuggurt\n",
      "couldn't find tuggurt\n",
      "hobyo\n",
      "ilam\n",
      "necochea\n",
      "rawson\n",
      "beringovskiy\n",
      "dingle\n",
      "linxia\n",
      "launceston\n",
      "tarata\n",
      "tiarei\n",
      "bonavista\n",
      "we\n",
      "couldn't find we\n",
      "luena\n",
      "longkou\n",
      "ust-omchug\n",
      "shu\n",
      "juybar\n",
      "bela vista do paraiso\n",
      "vallenar\n",
      "goedereede\n",
      "iquitos\n",
      "wagar\n",
      "vanimo\n",
      "umm lajj\n",
      "nalut\n",
      "mayumba\n",
      "sao mateus\n",
      "syracuse\n",
      "raalte\n",
      "san patricio\n",
      "saint-francois\n",
      "satao\n",
      "kilmez\n",
      "couldn't find kilmez\n",
      "karkaralinsk\n",
      "couldn't find karkaralinsk\n",
      "lasa\n",
      "voh\n",
      "sabha\n",
      "valguarnera caropepe\n",
      "cockburn town\n",
      "jaque\n",
      "borogontsy\n",
      "sola\n",
      "baturaja\n",
      "kompaniyivka\n",
      "umred\n",
      "korla\n",
      "linqu\n",
      "bani\n",
      "alta\n",
      "guarapari\n",
      "dudinka\n",
      "avera\n",
      "muroran\n",
      "ozernovskiy\n",
      "noshiro\n",
      "denpasar\n",
      "gualaquiza\n",
      "martapura\n",
      "nchelenge\n",
      "seydi\n",
      "mokobeng\n",
      "leo\n",
      "sakaiminato\n",
      "iida\n",
      "antalaha\n",
      "bluefields\n",
      "idenao\n",
      "yatou\n",
      "kysyl-syr\n",
      "brae\n",
      "tangermunde\n",
      "san rafael del sur\n",
      "puerto madryn\n",
      "vitim\n",
      "paso de carrasco\n",
      "russell\n",
      "bud\n",
      "ayan\n",
      "usinsk\n",
      "kalmar\n",
      "karpathos\n",
      "roebourne\n",
      "santa fe\n",
      "san jose\n",
      "khani\n",
      "balykshi\n",
      "couldn't find balykshi\n",
      "finished\n"
     ]
    },
    {
     "data": {
      "text/html": [
       "<div>\n",
       "<style scoped>\n",
       "    .dataframe tbody tr th:only-of-type {\n",
       "        vertical-align: middle;\n",
       "    }\n",
       "\n",
       "    .dataframe tbody tr th {\n",
       "        vertical-align: top;\n",
       "    }\n",
       "\n",
       "    .dataframe thead th {\n",
       "        text-align: right;\n",
       "    }\n",
       "</style>\n",
       "<table border=\"1\" class=\"dataframe\">\n",
       "  <thead>\n",
       "    <tr style=\"text-align: right;\">\n",
       "      <th></th>\n",
       "      <th>City</th>\n",
       "      <th>Lat</th>\n",
       "      <th>Lng</th>\n",
       "      <th>temp</th>\n",
       "      <th>Cloudiness</th>\n",
       "      <th>Country</th>\n",
       "      <th>Date</th>\n",
       "      <th>Humidity</th>\n",
       "      <th>Max Temp</th>\n",
       "      <th>Wind Speed</th>\n",
       "    </tr>\n",
       "  </thead>\n",
       "  <tbody>\n",
       "    <tr>\n",
       "      <th>0</th>\n",
       "      <td>boa vista</td>\n",
       "      <td>2.82</td>\n",
       "      <td>-60.67</td>\n",
       "      <td>80.60</td>\n",
       "      <td>75</td>\n",
       "      <td>BR</td>\n",
       "      <td>1592438482</td>\n",
       "      <td>83</td>\n",
       "      <td>80.60</td>\n",
       "      <td>2.24</td>\n",
       "    </tr>\n",
       "    <tr>\n",
       "      <th>1</th>\n",
       "      <td>saldanha</td>\n",
       "      <td>-33.01</td>\n",
       "      <td>17.94</td>\n",
       "      <td>50.00</td>\n",
       "      <td>11</td>\n",
       "      <td>ZA</td>\n",
       "      <td>1592438644</td>\n",
       "      <td>71</td>\n",
       "      <td>50.00</td>\n",
       "      <td>3.36</td>\n",
       "    </tr>\n",
       "    <tr>\n",
       "      <th>2</th>\n",
       "      <td>jamestown</td>\n",
       "      <td>42.10</td>\n",
       "      <td>-79.24</td>\n",
       "      <td>78.80</td>\n",
       "      <td>1</td>\n",
       "      <td>US</td>\n",
       "      <td>1592438529</td>\n",
       "      <td>41</td>\n",
       "      <td>78.80</td>\n",
       "      <td>11.41</td>\n",
       "    </tr>\n",
       "    <tr>\n",
       "      <th>3</th>\n",
       "      <td>albany</td>\n",
       "      <td>42.60</td>\n",
       "      <td>-73.97</td>\n",
       "      <td>82.00</td>\n",
       "      <td>0</td>\n",
       "      <td>US</td>\n",
       "      <td>1592438644</td>\n",
       "      <td>47</td>\n",
       "      <td>82.00</td>\n",
       "      <td>1.88</td>\n",
       "    </tr>\n",
       "    <tr>\n",
       "      <th>4</th>\n",
       "      <td>hilo</td>\n",
       "      <td>19.73</td>\n",
       "      <td>-155.09</td>\n",
       "      <td>84.20</td>\n",
       "      <td>1</td>\n",
       "      <td>US</td>\n",
       "      <td>1592438640</td>\n",
       "      <td>54</td>\n",
       "      <td>84.20</td>\n",
       "      <td>8.05</td>\n",
       "    </tr>\n",
       "    <tr>\n",
       "      <th>...</th>\n",
       "      <td>...</td>\n",
       "      <td>...</td>\n",
       "      <td>...</td>\n",
       "      <td>...</td>\n",
       "      <td>...</td>\n",
       "      <td>...</td>\n",
       "      <td>...</td>\n",
       "      <td>...</td>\n",
       "      <td>...</td>\n",
       "      <td>...</td>\n",
       "    </tr>\n",
       "    <tr>\n",
       "      <th>542</th>\n",
       "      <td>karpathos</td>\n",
       "      <td>35.51</td>\n",
       "      <td>27.21</td>\n",
       "      <td>70.77</td>\n",
       "      <td>1</td>\n",
       "      <td>GR</td>\n",
       "      <td>1592438727</td>\n",
       "      <td>83</td>\n",
       "      <td>70.77</td>\n",
       "      <td>12.10</td>\n",
       "    </tr>\n",
       "    <tr>\n",
       "      <th>543</th>\n",
       "      <td>roebourne</td>\n",
       "      <td>-20.78</td>\n",
       "      <td>117.13</td>\n",
       "      <td>72.48</td>\n",
       "      <td>0</td>\n",
       "      <td>AU</td>\n",
       "      <td>1592438727</td>\n",
       "      <td>47</td>\n",
       "      <td>72.48</td>\n",
       "      <td>5.37</td>\n",
       "    </tr>\n",
       "    <tr>\n",
       "      <th>544</th>\n",
       "      <td>santa fe</td>\n",
       "      <td>-31.63</td>\n",
       "      <td>-60.70</td>\n",
       "      <td>75.00</td>\n",
       "      <td>100</td>\n",
       "      <td>AR</td>\n",
       "      <td>1592438727</td>\n",
       "      <td>67</td>\n",
       "      <td>75.00</td>\n",
       "      <td>8.01</td>\n",
       "    </tr>\n",
       "    <tr>\n",
       "      <th>545</th>\n",
       "      <td>san jose</td>\n",
       "      <td>37.34</td>\n",
       "      <td>-121.89</td>\n",
       "      <td>87.01</td>\n",
       "      <td>1</td>\n",
       "      <td>US</td>\n",
       "      <td>1592438464</td>\n",
       "      <td>16</td>\n",
       "      <td>87.01</td>\n",
       "      <td>16.11</td>\n",
       "    </tr>\n",
       "    <tr>\n",
       "      <th>546</th>\n",
       "      <td>khani</td>\n",
       "      <td>41.96</td>\n",
       "      <td>42.96</td>\n",
       "      <td>66.20</td>\n",
       "      <td>90</td>\n",
       "      <td>GE</td>\n",
       "      <td>1592438727</td>\n",
       "      <td>100</td>\n",
       "      <td>66.20</td>\n",
       "      <td>4.70</td>\n",
       "    </tr>\n",
       "  </tbody>\n",
       "</table>\n",
       "<p>547 rows × 10 columns</p>\n",
       "</div>"
      ],
      "text/plain": [
       "          City    Lat     Lng   temp  Cloudiness Country        Date  \\\n",
       "0    boa vista   2.82  -60.67  80.60          75      BR  1592438482   \n",
       "1     saldanha -33.01   17.94  50.00          11      ZA  1592438644   \n",
       "2    jamestown  42.10  -79.24  78.80           1      US  1592438529   \n",
       "3       albany  42.60  -73.97  82.00           0      US  1592438644   \n",
       "4         hilo  19.73 -155.09  84.20           1      US  1592438640   \n",
       "..         ...    ...     ...    ...         ...     ...         ...   \n",
       "542  karpathos  35.51   27.21  70.77           1      GR  1592438727   \n",
       "543  roebourne -20.78  117.13  72.48           0      AU  1592438727   \n",
       "544   santa fe -31.63  -60.70  75.00         100      AR  1592438727   \n",
       "545   san jose  37.34 -121.89  87.01           1      US  1592438464   \n",
       "546      khani  41.96   42.96  66.20          90      GE  1592438727   \n",
       "\n",
       "     Humidity  Max Temp  Wind Speed  \n",
       "0          83     80.60        2.24  \n",
       "1          71     50.00        3.36  \n",
       "2          41     78.80       11.41  \n",
       "3          47     82.00        1.88  \n",
       "4          54     84.20        8.05  \n",
       "..        ...       ...         ...  \n",
       "542        83     70.77       12.10  \n",
       "543        47     72.48        5.37  \n",
       "544        67     75.00        8.01  \n",
       "545        16     87.01       16.11  \n",
       "546       100     66.20        4.70  \n",
       "\n",
       "[547 rows x 10 columns]"
      ]
     },
     "execution_count": 32,
     "metadata": {},
     "output_type": "execute_result"
    }
   ],
   "source": [
    "base_url = 'http://api.openweathermap.org/data/2.5/weather?units=imperial&appid='+ weather_api_key\n",
    "city_list = []\n",
    "for city in cities:\n",
    "    url = base_url + \"&q=\" + city\n",
    "    city_json = requests.get(url).json()\n",
    "    try:\n",
    "        print(city)\n",
    "        latitude= city_json['coord']['lat']\n",
    "        Longitude= city_json['coord']['lon']\n",
    "        Temperature= city_json['main']['temp_max']\n",
    "        Cloudiness = city_json['clouds']['all']\n",
    "        Country = city_json['sys']['country']\n",
    "        Date = city_json['dt']\n",
    "        Humidity = city_json['main']['humidity']\n",
    "        Max_Temp = city_json['main']['temp_max']\n",
    "        Wind_speed = city_json['wind']['speed']\n",
    "        city_list.append({\"City\": city,\n",
    "    \"Lat\": latitude,\n",
    "    \"Lng\":Longitude,\n",
    "    \"temp\":Temperature,\n",
    "    \"Cloudiness\": Cloudiness,\n",
    "    \"Country\": Country,\n",
    "    \"Date\": Date,\n",
    "    \"Humidity\": Humidity,\n",
    "    \"Max Temp\": Max_Temp,\n",
    "    \"Wind Speed\": Wind_speed\n",
    "                         })\n",
    "    except:\n",
    "        print(\"couldn't find \"+ city)\n",
    "print(\"finished\")\n",
    "city_df = pd.DataFrame (city_list)\n",
    "city_df"
   ]
  },
  {
   "cell_type": "markdown",
   "metadata": {},
   "source": [
    "### Convert Raw Data to DataFrame\n",
    "* Export the city data into a .csv.\n",
    "* Display the DataFrame"
   ]
  },
  {
   "cell_type": "code",
   "execution_count": 57,
   "metadata": {},
   "outputs": [
    {
     "data": {
      "text/plain": [
       "City          547\n",
       "Lat           547\n",
       "Lng           547\n",
       "temp          547\n",
       "Cloudiness    547\n",
       "Country       547\n",
       "Date          547\n",
       "Humidity      547\n",
       "Max Temp      547\n",
       "Wind Speed    547\n",
       "dtype: int64"
      ]
     },
     "execution_count": 57,
     "metadata": {},
     "output_type": "execute_result"
    }
   ],
   "source": [
    "city_df = pd.DataFrame (city_list)\n",
    "city_df.to_csv(\"output_data/output.csv\")\n",
    "city_df.count()\n"
   ]
  },
  {
   "cell_type": "markdown",
   "metadata": {},
   "source": [
    "## Inspect the data and remove the cities where the humidity > 100%.\n",
    "----\n",
    "Skip this step if there are no cities that have humidity > 100%. "
   ]
  },
  {
   "cell_type": "code",
   "execution_count": 38,
   "metadata": {},
   "outputs": [
    {
     "data": {
      "text/html": [
       "<div>\n",
       "<style scoped>\n",
       "    .dataframe tbody tr th:only-of-type {\n",
       "        vertical-align: middle;\n",
       "    }\n",
       "\n",
       "    .dataframe tbody tr th {\n",
       "        vertical-align: top;\n",
       "    }\n",
       "\n",
       "    .dataframe thead th {\n",
       "        text-align: right;\n",
       "    }\n",
       "</style>\n",
       "<table border=\"1\" class=\"dataframe\">\n",
       "  <thead>\n",
       "    <tr style=\"text-align: right;\">\n",
       "      <th></th>\n",
       "      <th>Lat</th>\n",
       "      <th>Lng</th>\n",
       "      <th>temp</th>\n",
       "      <th>Cloudiness</th>\n",
       "      <th>Date</th>\n",
       "      <th>Humidity</th>\n",
       "      <th>Max Temp</th>\n",
       "      <th>Wind Speed</th>\n",
       "    </tr>\n",
       "  </thead>\n",
       "  <tbody>\n",
       "    <tr>\n",
       "      <th>count</th>\n",
       "      <td>547.000000</td>\n",
       "      <td>547.000000</td>\n",
       "      <td>547.000000</td>\n",
       "      <td>547.000000</td>\n",
       "      <td>5.470000e+02</td>\n",
       "      <td>547.000000</td>\n",
       "      <td>547.000000</td>\n",
       "      <td>547.000000</td>\n",
       "    </tr>\n",
       "    <tr>\n",
       "      <th>mean</th>\n",
       "      <td>19.966673</td>\n",
       "      <td>23.047441</td>\n",
       "      <td>67.472066</td>\n",
       "      <td>47.848263</td>\n",
       "      <td>1.592439e+09</td>\n",
       "      <td>69.820841</td>\n",
       "      <td>67.472066</td>\n",
       "      <td>7.802596</td>\n",
       "    </tr>\n",
       "    <tr>\n",
       "      <th>std</th>\n",
       "      <td>33.181818</td>\n",
       "      <td>89.557244</td>\n",
       "      <td>14.028525</td>\n",
       "      <td>37.010107</td>\n",
       "      <td>7.691177e+01</td>\n",
       "      <td>21.036530</td>\n",
       "      <td>14.028525</td>\n",
       "      <td>5.171606</td>\n",
       "    </tr>\n",
       "    <tr>\n",
       "      <th>min</th>\n",
       "      <td>-54.800000</td>\n",
       "      <td>-175.200000</td>\n",
       "      <td>28.400000</td>\n",
       "      <td>0.000000</td>\n",
       "      <td>1.592438e+09</td>\n",
       "      <td>1.000000</td>\n",
       "      <td>28.400000</td>\n",
       "      <td>0.090000</td>\n",
       "    </tr>\n",
       "    <tr>\n",
       "      <th>25%</th>\n",
       "      <td>-7.560000</td>\n",
       "      <td>-58.285000</td>\n",
       "      <td>58.025000</td>\n",
       "      <td>9.500000</td>\n",
       "      <td>1.592439e+09</td>\n",
       "      <td>59.000000</td>\n",
       "      <td>58.025000</td>\n",
       "      <td>3.370000</td>\n",
       "    </tr>\n",
       "    <tr>\n",
       "      <th>50%</th>\n",
       "      <td>22.290000</td>\n",
       "      <td>24.730000</td>\n",
       "      <td>69.800000</td>\n",
       "      <td>45.000000</td>\n",
       "      <td>1.592439e+09</td>\n",
       "      <td>75.000000</td>\n",
       "      <td>69.800000</td>\n",
       "      <td>6.930000</td>\n",
       "    </tr>\n",
       "    <tr>\n",
       "      <th>75%</th>\n",
       "      <td>47.525000</td>\n",
       "      <td>102.585000</td>\n",
       "      <td>78.970000</td>\n",
       "      <td>81.500000</td>\n",
       "      <td>1.592439e+09</td>\n",
       "      <td>85.000000</td>\n",
       "      <td>78.970000</td>\n",
       "      <td>10.780000</td>\n",
       "    </tr>\n",
       "    <tr>\n",
       "      <th>max</th>\n",
       "      <td>78.220000</td>\n",
       "      <td>179.320000</td>\n",
       "      <td>98.780000</td>\n",
       "      <td>100.000000</td>\n",
       "      <td>1.592439e+09</td>\n",
       "      <td>100.000000</td>\n",
       "      <td>98.780000</td>\n",
       "      <td>31.270000</td>\n",
       "    </tr>\n",
       "  </tbody>\n",
       "</table>\n",
       "</div>"
      ],
      "text/plain": [
       "              Lat         Lng        temp  Cloudiness          Date  \\\n",
       "count  547.000000  547.000000  547.000000  547.000000  5.470000e+02   \n",
       "mean    19.966673   23.047441   67.472066   47.848263  1.592439e+09   \n",
       "std     33.181818   89.557244   14.028525   37.010107  7.691177e+01   \n",
       "min    -54.800000 -175.200000   28.400000    0.000000  1.592438e+09   \n",
       "25%     -7.560000  -58.285000   58.025000    9.500000  1.592439e+09   \n",
       "50%     22.290000   24.730000   69.800000   45.000000  1.592439e+09   \n",
       "75%     47.525000  102.585000   78.970000   81.500000  1.592439e+09   \n",
       "max     78.220000  179.320000   98.780000  100.000000  1.592439e+09   \n",
       "\n",
       "         Humidity    Max Temp  Wind Speed  \n",
       "count  547.000000  547.000000  547.000000  \n",
       "mean    69.820841   67.472066    7.802596  \n",
       "std     21.036530   14.028525    5.171606  \n",
       "min      1.000000   28.400000    0.090000  \n",
       "25%     59.000000   58.025000    3.370000  \n",
       "50%     75.000000   69.800000    6.930000  \n",
       "75%     85.000000   78.970000   10.780000  \n",
       "max    100.000000   98.780000   31.270000  "
      ]
     },
     "execution_count": 38,
     "metadata": {},
     "output_type": "execute_result"
    }
   ],
   "source": [
    "city_df.describe()"
   ]
  },
  {
   "cell_type": "code",
   "execution_count": 7,
   "metadata": {},
   "outputs": [
    {
     "data": {
      "text/plain": [
       "Int64Index([], dtype='int64')"
      ]
     },
     "execution_count": 7,
     "metadata": {},
     "output_type": "execute_result"
    }
   ],
   "source": [
    "#  Get the indices of cities that have humidity over 100%.\n"
   ]
  },
  {
   "cell_type": "code",
   "execution_count": 8,
   "metadata": {},
   "outputs": [
    {
     "data": {
      "text/html": [
       "<div>\n",
       "<style scoped>\n",
       "    .dataframe tbody tr th:only-of-type {\n",
       "        vertical-align: middle;\n",
       "    }\n",
       "\n",
       "    .dataframe tbody tr th {\n",
       "        vertical-align: top;\n",
       "    }\n",
       "\n",
       "    .dataframe thead th {\n",
       "        text-align: right;\n",
       "    }\n",
       "</style>\n",
       "<table border=\"1\" class=\"dataframe\">\n",
       "  <thead>\n",
       "    <tr style=\"text-align: right;\">\n",
       "      <th></th>\n",
       "      <th>City</th>\n",
       "      <th>Lat</th>\n",
       "      <th>Lng</th>\n",
       "      <th>Max Temp</th>\n",
       "      <th>Humidity</th>\n",
       "      <th>Cloudiness</th>\n",
       "      <th>Wind Speed</th>\n",
       "      <th>Country</th>\n",
       "      <th>Date</th>\n",
       "    </tr>\n",
       "  </thead>\n",
       "  <tbody>\n",
       "    <tr>\n",
       "      <th>0</th>\n",
       "      <td>pimentel</td>\n",
       "      <td>-6.84</td>\n",
       "      <td>-79.93</td>\n",
       "      <td>66.20</td>\n",
       "      <td>29</td>\n",
       "      <td>75</td>\n",
       "      <td>5.82</td>\n",
       "      <td>PE</td>\n",
       "      <td>1585764415</td>\n",
       "    </tr>\n",
       "    <tr>\n",
       "      <th>1</th>\n",
       "      <td>victoria</td>\n",
       "      <td>22.29</td>\n",
       "      <td>114.16</td>\n",
       "      <td>69.01</td>\n",
       "      <td>88</td>\n",
       "      <td>40</td>\n",
       "      <td>18.34</td>\n",
       "      <td>HK</td>\n",
       "      <td>1585764288</td>\n",
       "    </tr>\n",
       "    <tr>\n",
       "      <th>2</th>\n",
       "      <td>padang</td>\n",
       "      <td>-0.95</td>\n",
       "      <td>100.35</td>\n",
       "      <td>79.90</td>\n",
       "      <td>75</td>\n",
       "      <td>99</td>\n",
       "      <td>1.63</td>\n",
       "      <td>ID</td>\n",
       "      <td>1585764115</td>\n",
       "    </tr>\n",
       "    <tr>\n",
       "      <th>3</th>\n",
       "      <td>hasaki</td>\n",
       "      <td>35.73</td>\n",
       "      <td>140.83</td>\n",
       "      <td>55.00</td>\n",
       "      <td>100</td>\n",
       "      <td>75</td>\n",
       "      <td>4.70</td>\n",
       "      <td>JP</td>\n",
       "      <td>1585764415</td>\n",
       "    </tr>\n",
       "    <tr>\n",
       "      <th>4</th>\n",
       "      <td>kahului</td>\n",
       "      <td>20.89</td>\n",
       "      <td>-156.47</td>\n",
       "      <td>70.00</td>\n",
       "      <td>88</td>\n",
       "      <td>1</td>\n",
       "      <td>7.63</td>\n",
       "      <td>US</td>\n",
       "      <td>1585764415</td>\n",
       "    </tr>\n",
       "  </tbody>\n",
       "</table>\n",
       "</div>"
      ],
      "text/plain": [
       "       City    Lat     Lng  Max Temp  Humidity  Cloudiness  Wind Speed  \\\n",
       "0  pimentel  -6.84  -79.93     66.20        29          75        5.82   \n",
       "1  victoria  22.29  114.16     69.01        88          40       18.34   \n",
       "2    padang  -0.95  100.35     79.90        75          99        1.63   \n",
       "3    hasaki  35.73  140.83     55.00       100          75        4.70   \n",
       "4   kahului  20.89 -156.47     70.00        88           1        7.63   \n",
       "\n",
       "  Country        Date  \n",
       "0      PE  1585764415  \n",
       "1      HK  1585764288  \n",
       "2      ID  1585764115  \n",
       "3      JP  1585764415  \n",
       "4      US  1585764415  "
      ]
     },
     "execution_count": 8,
     "metadata": {},
     "output_type": "execute_result"
    }
   ],
   "source": [
    "# Make a new DataFrame equal to the city data to drop all humidity outliers by index.\n",
    "# Passing \"inplace=False\" will make a copy of the city_data DataFrame, which we call \"clean_city_data\".\n"
   ]
  },
  {
   "cell_type": "code",
   "execution_count": 9,
   "metadata": {},
   "outputs": [],
   "source": [
    "# Extract relevant fields from the data frame\n",
    "\n",
    "\n",
    "# Export the City_Data into a csv\n"
   ]
  },
  {
   "cell_type": "markdown",
   "metadata": {},
   "source": [
    "## Plotting the Data\n",
    "* Use proper labeling of the plots using plot titles (including date of analysis) and axes labels.\n",
    "* Save the plotted figures as .pngs."
   ]
  },
  {
   "cell_type": "markdown",
   "metadata": {},
   "source": [
    "## Latitude vs. Temperature Plot"
   ]
  },
  {
   "cell_type": "code",
   "execution_count": 51,
   "metadata": {
    "scrolled": true
   },
   "outputs": [
    {
     "data": {
      "image/png": "[encoded data removed]",
      "text/plain": [
       "<Figure size 432x288 with 1 Axes>"
      ]
     },
     "metadata": {
      "needs_background": "light"
     },
     "output_type": "display_data"
    }
   ],
   "source": [
    "#Make scatter plot for Latitude vs Temperature\n",
    "plt.scatter(city_df[\"Lat\"], city_df[\"Max Temp\"], marker=\"o\", edgecolors=\"black\")\n",
    "\n",
    "# Create a title, x label, and y label for our chart\n",
    "plt.title(f'City Latitude vs. Temperature {time.strftime(\"%m/%d/%Y\")}')\n",
    "plt.xlabel(\"Latitude\")\n",
    "plt.ylabel(\"Temperature (F)\")\n",
    "plt.grid(True)\n",
    "\n",
    "#Save image\n",
    "plt.savefig(\"output_data/lat_temp.png\")\n",
    "plt.show()\n"
   ]
  },
  {
   "cell_type": "markdown",
   "metadata": {},
   "source": [
    "## Latitude vs. Humidity Plot"
   ]
  },
  {
   "cell_type": "code",
   "execution_count": 53,
   "metadata": {},
   "outputs": [
    {
     "data": {
      "image/png": "[encoded data removed]",
      "text/plain": [
       "<Figure size 432x288 with 1 Axes>"
      ]
     },
     "metadata": {
      "needs_background": "light"
     },
     "output_type": "display_data"
    }
   ],
   "source": [
    "#Make scatter plot for Latitude vs Humidity\n",
    "plt.scatter(city_df[\"Lat\"], city_df[\"Humidity\"], marker=\"o\", edgecolors=\"black\")\n",
    "\n",
    "# Create a title, x label, and y label for our chart\n",
    "plt.title(f'City Latitude vs. Humidity {time.strftime(\"%m/%d/%Y\")}')\n",
    "plt.xlabel(\"Latitude\")\n",
    "plt.ylabel(\"Humidity (%)\")\n",
    "plt.grid(True)\n",
    "\n",
    "#Save image\n",
    "plt.savefig(\"output_data/lat_humidity.png\")\n",
    "plt.show()"
   ]
  },
  {
   "cell_type": "markdown",
   "metadata": {},
   "source": [
    "## Latitude vs. Cloudiness Plot"
   ]
  },
  {
   "cell_type": "code",
   "execution_count": 54,
   "metadata": {},
   "outputs": [
    {
     "data": {
      "image/png": "[encoded data removed]",
      "text/plain": [
       "<Figure size 432x288 with 1 Axes>"
      ]
     },
     "metadata": {
      "needs_background": "light"
     },
     "output_type": "display_data"
    }
   ],
   "source": [
    "#Make scatter plot for Latitude vs Cloudiness\n",
    "plt.scatter(city_df[\"Lat\"], city_df[\"Cloudiness\"], marker=\"o\", edgecolors=\"black\")\n",
    "\n",
    "# Create a title, x label, and y label for our chart\n",
    "plt.title(f'City Latitude vs. Cloudiness {time.strftime(\"%m/%d/%Y\")}')\n",
    "plt.xlabel(\"Latitude\")\n",
    "plt.ylabel(\"Cloudiness (%)\")\n",
    "plt.grid(True)\n",
    "\n",
    "#Save image\n",
    "plt.savefig(\"output_data/lat_cloud.png\")\n",
    "plt.show()"
   ]
  },
  {
   "cell_type": "markdown",
   "metadata": {},
   "source": [
    "## Latitude vs. Wind Speed Plot"
   ]
  },
  {
   "cell_type": "code",
   "execution_count": 56,
   "metadata": {},
   "outputs": [
    {
     "data": {
      "image/png": "[encoded data removed]",
      "text/plain": [
       "<Figure size 432x288 with 1 Axes>"
      ]
     },
     "metadata": {
      "needs_background": "light"
     },
     "output_type": "display_data"
    }
   ],
   "source": [
    "#Make scatter plot for Latitude vs Wind Speed\n",
    "plt.scatter(city_df[\"Lat\"], city_df[\"Wind Speed\"], marker=\"o\", edgecolors=\"black\")\n",
    "\n",
    "# Create a title, x label, and y label for our chart\n",
    "plt.title(f'City Latitude vs. Wind Speed {time.strftime(\"%m/%d/%Y\")}')\n",
    "plt.xlabel(\"Latitude\")\n",
    "plt.ylabel(\"Wind Speed (mph)\")\n",
    "plt.grid(True)\n",
    "\n",
    "#Save image\n",
    "plt.savefig(\"output_data/lat_wind.png\")\n",
    "plt.show()"
   ]
  },
  {
   "cell_type": "markdown",
   "metadata": {},
   "source": [
    "## Linear Regression"
   ]
  },
  {
   "cell_type": "code",
   "execution_count": 14,
   "metadata": {},
   "outputs": [],
   "source": [
    "# OPTIONAL: Create a function to create Linear Regression plots"
   ]
  },
  {
   "cell_type": "code",
   "execution_count": 15,
   "metadata": {},
   "outputs": [],
   "source": [
    "# Create Northern and Southern Hemisphere DataFrames"
   ]
  },
  {
   "cell_type": "markdown",
   "metadata": {},
   "source": [
    "####  Northern Hemisphere - Max Temp vs. Latitude Linear Regression"
   ]
  },
  {
   "cell_type": "code",
   "execution_count": 16,
   "metadata": {},
   "outputs": [
    {
     "name": "stdout",
     "output_type": "stream",
     "text": [
      "The r-squared is: 0.8271188905041935\n"
     ]
    },
    {
     "data": {
      "image/png": "[encoded data removed]",
      "text/plain": [
       "<Figure size 432x288 with 1 Axes>"
      ]
     },
     "metadata": {
      "needs_background": "light"
     },
     "output_type": "display_data"
    }
   ],
   "source": []
  },
  {
   "cell_type": "markdown",
   "metadata": {},
   "source": [
    "####  Southern Hemisphere - Max Temp vs. Latitude Linear Regression"
   ]
  },
  {
   "cell_type": "code",
   "execution_count": 17,
   "metadata": {},
   "outputs": [
    {
     "name": "stdout",
     "output_type": "stream",
     "text": [
      "The r-squared is: 0.39936284758885965\n"
     ]
    },
    {
     "data": {
      "image/png": "[encoded data removed]",
      "text/plain": [
       "<Figure size 432x288 with 1 Axes>"
      ]
     },
     "metadata": {
      "needs_background": "light"
     },
     "output_type": "display_data"
    }
   ],
   "source": []
  },
  {
   "cell_type": "markdown",
   "metadata": {},
   "source": [
    "####  Northern Hemisphere - Humidity (%) vs. Latitude Linear Regression"
   ]
  },
  {
   "cell_type": "code",
   "execution_count": 18,
   "metadata": {},
   "outputs": [
    {
     "name": "stdout",
     "output_type": "stream",
     "text": [
      "The r-squared is: 0.10829462153873139\n"
     ]
    },
    {
     "data": {
      "image/png": "[encoded data removed]",
      "text/plain": [
       "<Figure size 432x288 with 1 Axes>"
      ]
     },
     "metadata": {
      "needs_background": "light"
     },
     "output_type": "display_data"
    }
   ],
   "source": []
  },
  {
   "cell_type": "markdown",
   "metadata": {},
   "source": [
    "####  Southern Hemisphere - Humidity (%) vs. Latitude Linear Regression"
   ]
  },
  {
   "cell_type": "code",
   "execution_count": 19,
   "metadata": {},
   "outputs": [
    {
     "name": "stdout",
     "output_type": "stream",
     "text": [
      "The r-squared is: 0.0008996079328825663\n"
     ]
    },
    {
     "data": {
      "image/png": "[encoded data removed]",
      "text/plain": [
       "<Figure size 432x288 with 1 Axes>"
      ]
     },
     "metadata": {
      "needs_background": "light"
     },
     "output_type": "display_data"
    }
   ],
   "source": []
  },
  {
   "cell_type": "markdown",
   "metadata": {},
   "source": [
    "####  Northern Hemisphere - Cloudiness (%) vs. Latitude Linear Regression"
   ]
  },
  {
   "cell_type": "code",
   "execution_count": 20,
   "metadata": {},
   "outputs": [
    {
     "name": "stdout",
     "output_type": "stream",
     "text": [
      "The r-squared is: 0.05768812657005063\n"
     ]
    },
    {
     "data": {
      "image/png": "[encoded data removed]",
      "text/plain": [
       "<Figure size 432x288 with 1 Axes>"
      ]
     },
     "metadata": {
      "needs_background": "light"
     },
     "output_type": "display_data"
    }
   ],
   "source": []
  },
  {
   "cell_type": "markdown",
   "metadata": {},
   "source": [
    "####  Southern Hemisphere - Cloudiness (%) vs. Latitude Linear Regression"
   ]
  },
  {
   "cell_type": "code",
   "execution_count": 21,
   "metadata": {},
   "outputs": [
    {
     "name": "stdout",
     "output_type": "stream",
     "text": [
      "The r-squared is: 0.0684912094859049\n"
     ]
    },
    {
     "data": {
      "image/png": "[encoded data removed]",
      "text/plain": [
       "<Figure size 432x288 with 1 Axes>"
      ]
     },
     "metadata": {
      "needs_background": "light"
     },
     "output_type": "display_data"
    }
   ],
   "source": []
  },
  {
   "cell_type": "markdown",
   "metadata": {},
   "source": [
    "####  Northern Hemisphere - Wind Speed (mph) vs. Latitude Linear Regression"
   ]
  },
  {
   "cell_type": "code",
   "execution_count": 22,
   "metadata": {},
   "outputs": [
    {
     "name": "stdout",
     "output_type": "stream",
     "text": [
      "The r-squared is: 0.023371104533850804\n"
     ]
    },
    {
     "data": {
      "image/png": "[encoded data removed]",
      "text/plain": [
       "<Figure size 432x288 with 1 Axes>"
      ]
     },
     "metadata": {
      "needs_background": "light"
     },
     "output_type": "display_data"
    }
   ],
   "source": []
  },
  {
   "cell_type": "markdown",
   "metadata": {},
   "source": [
    "####  Southern Hemisphere - Wind Speed (mph) vs. Latitude Linear Regression"
   ]
  },
  {
   "cell_type": "code",
   "execution_count": 23,
   "metadata": {},
   "outputs": [
    {
     "name": "stdout",
     "output_type": "stream",
     "text": [
      "The r-squared is: 0.03381889207758188\n"
     ]
    },
    {
     "data": {
      "image/png": "[encoded data removed]",
      "text/plain": [
       "<Figure size 432x288 with 1 Axes>"
      ]
     },
     "metadata": {
      "needs_background": "light"
     },
     "output_type": "display_data"
    }
   ],
   "source": []
  },
  {
   "cell_type": "code",
   "execution_count": null,
   "metadata": {},
   "outputs": [],
   "source": []
  }
 ],
 "metadata": {
  "anaconda-cloud": {},
  "kernel_info": {
   "name": "python3"
  },
  "kernelspec": {
   "display_name": "Python [conda env:PythonData] *",
   "language": "python",
   "name": "conda-env-PythonData-py"
  },
  "language_info": {
   "codemirror_mode": {
    "name": "ipython",
    "version": 3
   },
   "file_extension": ".py",
   "mimetype": "text/x-python",
   "name": "python",
   "nbconvert_exporter": "python",
   "pygments_lexer": "ipython3",
   "version": "3.8.2"
  },
  "latex_envs": {
   "LaTeX_envs_menu_present": true,
   "autoclose": false,
   "autocomplete": true,
   "bibliofile": "biblio.bib",
   "cite_by": "apalike",
   "current_citInitial": 1,
   "eqLabelWithNumbers": true,
   "eqNumInitial": 1,
   "hotkeys": {
    "equation": "Ctrl-E",
    "itemize": "Ctrl-I"
   },
   "labels_anchors": false,
   "latex_user_defs": false,
   "report_style_numbering": false,
   "user_envs_cfg": false
  },
  "nteract": {
   "version": "0.12.3"
  }
 },
 "nbformat": 4,
 "nbformat_minor": 2
}
